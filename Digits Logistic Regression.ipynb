{
 "cells": [
  {
   "cell_type": "code",
   "execution_count": 1,
   "metadata": {
    "collapsed": true
   },
   "outputs": [],
   "source": [
    "import numpy as np\n",
    "import pandas as pd\n",
    "import sklearn as skl\n",
    "import matplotlib.pyplot as plt"
   ]
  },
  {
   "cell_type": "code",
   "execution_count": 2,
   "metadata": {},
   "outputs": [
    {
     "name": "stderr",
     "output_type": "stream",
     "text": [
      "C:\\Users\\blacat\\Anaconda3\\lib\\site-packages\\sklearn\\cross_validation.py:41: DeprecationWarning: This module was deprecated in version 0.18 in favor of the model_selection module into which all the refactored classes and functions are moved. Also note that the interface of the new CV iterators are different from that of this module. This module will be removed in 0.20.\n",
      "  \"This module will be removed in 0.20.\", DeprecationWarning)\n",
      "C:\\Users\\blacat\\Anaconda3\\lib\\site-packages\\sklearn\\grid_search.py:42: DeprecationWarning: This module was deprecated in version 0.18 in favor of the model_selection module into which all the refactored classes and functions are moved. This module will be removed in 0.20.\n",
      "  DeprecationWarning)\n"
     ]
    }
   ],
   "source": [
    "from sklearn import datasets\n",
    "from sklearn.metrics import *\n",
    "from sklearn.model_selection import train_test_split\n",
    "from sklearn.grid_search import GridSearchCV\n",
    "from sklearn.model_selection import KFold, cross_val_score"
   ]
  },
  {
   "cell_type": "code",
   "execution_count": 3,
   "metadata": {
    "collapsed": true
   },
   "outputs": [],
   "source": [
    "%config InlineBackend.figure_format = 'retina'\n",
    "from pylab import rcParams\n",
    "rcParams['figure.figsize'] = (10, 7)"
   ]
  },
  {
   "cell_type": "code",
   "execution_count": 4,
   "metadata": {
    "collapsed": true
   },
   "outputs": [],
   "source": [
    "digits = datasets.load_digits()"
   ]
  },
  {
   "cell_type": "code",
   "execution_count": 5,
   "metadata": {},
   "outputs": [
    {
     "data": {
      "text/plain": [
       "(1797, 64)"
      ]
     },
     "execution_count": 5,
     "metadata": {},
     "output_type": "execute_result"
    }
   ],
   "source": [
    "X = pd.DataFrame(digits['data'])\n",
    "X.shape"
   ]
  },
  {
   "cell_type": "code",
   "execution_count": 6,
   "metadata": {},
   "outputs": [
    {
     "data": {
      "text/html": [
       "<div>\n",
       "<style>\n",
       "    .dataframe thead tr:only-child th {\n",
       "        text-align: right;\n",
       "    }\n",
       "\n",
       "    .dataframe thead th {\n",
       "        text-align: left;\n",
       "    }\n",
       "\n",
       "    .dataframe tbody tr th {\n",
       "        vertical-align: top;\n",
       "    }\n",
       "</style>\n",
       "<table border=\"1\" class=\"dataframe\">\n",
       "  <thead>\n",
       "    <tr style=\"text-align: right;\">\n",
       "      <th></th>\n",
       "      <th>0</th>\n",
       "      <th>1</th>\n",
       "      <th>2</th>\n",
       "      <th>3</th>\n",
       "      <th>4</th>\n",
       "      <th>5</th>\n",
       "      <th>6</th>\n",
       "      <th>7</th>\n",
       "      <th>8</th>\n",
       "      <th>9</th>\n",
       "    </tr>\n",
       "  </thead>\n",
       "  <tbody>\n",
       "    <tr>\n",
       "      <th>0</th>\n",
       "      <td>1</td>\n",
       "      <td>0</td>\n",
       "      <td>0</td>\n",
       "      <td>0</td>\n",
       "      <td>0</td>\n",
       "      <td>0</td>\n",
       "      <td>0</td>\n",
       "      <td>0</td>\n",
       "      <td>0</td>\n",
       "      <td>0</td>\n",
       "    </tr>\n",
       "    <tr>\n",
       "      <th>1</th>\n",
       "      <td>0</td>\n",
       "      <td>1</td>\n",
       "      <td>0</td>\n",
       "      <td>0</td>\n",
       "      <td>0</td>\n",
       "      <td>0</td>\n",
       "      <td>0</td>\n",
       "      <td>0</td>\n",
       "      <td>0</td>\n",
       "      <td>0</td>\n",
       "    </tr>\n",
       "    <tr>\n",
       "      <th>2</th>\n",
       "      <td>0</td>\n",
       "      <td>0</td>\n",
       "      <td>1</td>\n",
       "      <td>0</td>\n",
       "      <td>0</td>\n",
       "      <td>0</td>\n",
       "      <td>0</td>\n",
       "      <td>0</td>\n",
       "      <td>0</td>\n",
       "      <td>0</td>\n",
       "    </tr>\n",
       "    <tr>\n",
       "      <th>3</th>\n",
       "      <td>0</td>\n",
       "      <td>0</td>\n",
       "      <td>0</td>\n",
       "      <td>1</td>\n",
       "      <td>0</td>\n",
       "      <td>0</td>\n",
       "      <td>0</td>\n",
       "      <td>0</td>\n",
       "      <td>0</td>\n",
       "      <td>0</td>\n",
       "    </tr>\n",
       "    <tr>\n",
       "      <th>4</th>\n",
       "      <td>0</td>\n",
       "      <td>0</td>\n",
       "      <td>0</td>\n",
       "      <td>0</td>\n",
       "      <td>1</td>\n",
       "      <td>0</td>\n",
       "      <td>0</td>\n",
       "      <td>0</td>\n",
       "      <td>0</td>\n",
       "      <td>0</td>\n",
       "    </tr>\n",
       "  </tbody>\n",
       "</table>\n",
       "</div>"
      ],
      "text/plain": [
       "   0  1  2  3  4  5  6  7  8  9\n",
       "0  1  0  0  0  0  0  0  0  0  0\n",
       "1  0  1  0  0  0  0  0  0  0  0\n",
       "2  0  0  1  0  0  0  0  0  0  0\n",
       "3  0  0  0  1  0  0  0  0  0  0\n",
       "4  0  0  0  0  1  0  0  0  0  0"
      ]
     },
     "execution_count": 6,
     "metadata": {},
     "output_type": "execute_result"
    }
   ],
   "source": [
    "Ydm = pd.get_dummies(digits['target'])\n",
    "Ydm.head()"
   ]
  },
  {
   "cell_type": "code",
   "execution_count": 9,
   "metadata": {},
   "outputs": [],
   "source": [
    "X_train, X_test, Y_train, Y_test = train_test_split( X, Ydm, test_size = 0.3, random_state = 0 )"
   ]
  },
  {
   "cell_type": "code",
   "execution_count": 10,
   "metadata": {},
   "outputs": [],
   "source": [
    "X_train.reset_index(inplace = True)\n",
    "Y_train.reset_index(inplace = True)"
   ]
  },
  {
   "cell_type": "code",
   "execution_count": 11,
   "metadata": {},
   "outputs": [],
   "source": [
    "X_test.reset_index(inplace = True)\n",
    "Y_test.reset_index(inplace = True)"
   ]
  },
  {
   "cell_type": "code",
   "execution_count": 12,
   "metadata": {
    "collapsed": true
   },
   "outputs": [],
   "source": [
    "del X_train['index']\n",
    "del X_test['index']"
   ]
  },
  {
   "cell_type": "code",
   "execution_count": 13,
   "metadata": {
    "collapsed": true
   },
   "outputs": [],
   "source": [
    "del Y_train['index']\n",
    "del Y_test['index']"
   ]
  },
  {
   "cell_type": "code",
   "execution_count": 14,
   "metadata": {},
   "outputs": [
    {
     "data": {
      "text/plain": [
       "(1257, 64)"
      ]
     },
     "execution_count": 14,
     "metadata": {},
     "output_type": "execute_result"
    }
   ],
   "source": [
    "X_train.shape"
   ]
  },
  {
   "cell_type": "code",
   "execution_count": 15,
   "metadata": {},
   "outputs": [
    {
     "data": {
      "text/plain": [
       "(1257, 10)"
      ]
     },
     "execution_count": 15,
     "metadata": {},
     "output_type": "execute_result"
    }
   ],
   "source": [
    "Y_train.shape"
   ]
  },
  {
   "cell_type": "code",
   "execution_count": 16,
   "metadata": {
    "collapsed": true
   },
   "outputs": [],
   "source": [
    "from sklearn import linear_model"
   ]
  },
  {
   "cell_type": "code",
   "execution_count": 17,
   "metadata": {
    "collapsed": true
   },
   "outputs": [],
   "source": [
    "model_log = linear_model.LogisticRegression()"
   ]
  },
  {
   "cell_type": "markdown",
   "metadata": {},
   "source": [
    "Логистическая регрессия обладает широким набором параметров, подбор которых для наилучшей работы алгоритма \n",
    "потребовал три версии сеток для метода GridSearch"
   ]
  },
  {
   "cell_type": "code",
   "execution_count": 39,
   "metadata": {
    "collapsed": true
   },
   "outputs": [],
   "source": [
    "# проверки показали, что не сходится при данных параметрах для алгоритма 'saga', ресурсоемкий, \n",
    "# поэтому работу с алгоритмом 'saga' оставила\n",
    "\n",
    "\n",
    "#param_log2 = { 'penalty' : [ 'l1', 'l2'], \n",
    "#              'dual' : [False], \n",
    "#              'C' : np.array(range(1,11, 2))*0.1,\n",
    "#              'fit_intercept' : [True, False], \n",
    "#              'intercept_scaling' : np.array(range(1,10))*0.1 , \n",
    "#              'solver' : ['saga'], \n",
    "#              'warm_start' : [True, False] \n",
    "#            }"
   ]
  },
  {
   "cell_type": "code",
   "execution_count": 28,
   "metadata": {
    "collapsed": true
   },
   "outputs": [],
   "source": [
    "param_log = { 'penalty' : [ 'l1', 'l2'], \n",
    "              'C' : np.array(range(1,11, 2))*0.1,\n",
    "              'fit_intercept' : [True, False], \n",
    "              'intercept_scaling' : np.array(range(1,10))*0.1 , \n",
    "              'solver' : ['liblinear'], \n",
    "              'verbose' : np.array(range(1,4, 2)), \n",
    "            }"
   ]
  },
  {
   "cell_type": "code",
   "execution_count": 33,
   "metadata": {},
   "outputs": [],
   "source": [
    "param_log3 = {'penalty' : [ 'l2'], \n",
    "              'C' : np.array(range(1,11, 2))*0.1,\n",
    "              'fit_intercept' : [True, False],\n",
    "              'max_iter' : [1000],\n",
    "              'intercept_scaling' : np.array(range(1,10))*0.1 , \n",
    "              'solver' : ['newton-cg','lbfgs', 'sag'], \n",
    "              'verbose' : np.array(range(1,4)), \n",
    "              'warm_start' : [True, False] \n",
    "    \n",
    "}"
   ]
  },
  {
   "cell_type": "markdown",
   "metadata": {},
   "source": [
    "Подбор лучших параметров с методом liblinear"
   ]
  },
  {
   "cell_type": "code",
   "execution_count": 23,
   "metadata": {},
   "outputs": [],
   "source": [
    "grid_log = GridSearchCV (model_log, param_grid = param_log, scoring = 'accuracy', n_jobs = -1 )"
   ]
  },
  {
   "cell_type": "code",
   "execution_count": 25,
   "metadata": {},
   "outputs": [
    {
     "name": "stdout",
     "output_type": "stream",
     "text": [
      "[LibLinear]class:  0 best_params: {'C': 0.30000000000000004, 'fit_intercept': True, 'intercept_scaling': 0.10000000000000001, 'penalty': 'l2', 'solver': 'liblinear', 'verbose': 1}\n",
      "score: 0.99841\n",
      "[LibLinear]class:  1 best_params: {'C': 0.5, 'fit_intercept': True, 'intercept_scaling': 0.10000000000000001, 'penalty': 'l1', 'solver': 'liblinear', 'verbose': 1}\n",
      "score: 0.97534\n",
      "[LibLinear]class:  2 best_params: {'C': 0.30000000000000004, 'fit_intercept': True, 'intercept_scaling': 0.10000000000000001, 'penalty': 'l2', 'solver': 'liblinear', 'verbose': 1}\n",
      "score: 0.99920\n",
      "[LibLinear]class:  3 best_params: {'C': 0.10000000000000001, 'fit_intercept': True, 'intercept_scaling': 0.10000000000000001, 'penalty': 'l2', 'solver': 'liblinear', 'verbose': 1}\n",
      "score: 0.98568\n",
      "[LibLinear]class:  4 best_params: {'C': 0.10000000000000001, 'fit_intercept': True, 'intercept_scaling': 0.10000000000000001, 'penalty': 'l2', 'solver': 'liblinear', 'verbose': 1}\n",
      "score: 0.99523\n",
      "[LibLinear]class:  5 best_params: {'C': 0.5, 'fit_intercept': True, 'intercept_scaling': 0.10000000000000001, 'penalty': 'l2', 'solver': 'liblinear', 'verbose': 1}\n",
      "score: 0.99284\n",
      "[LibLinear]class:  6 best_params: {'C': 0.10000000000000001, 'fit_intercept': True, 'intercept_scaling': 0.10000000000000001, 'penalty': 'l2', 'solver': 'liblinear', 'verbose': 1}\n",
      "score: 0.99602\n",
      "[LibLinear]class:  7 best_params: {'C': 0.10000000000000001, 'fit_intercept': True, 'intercept_scaling': 0.10000000000000001, 'penalty': 'l2', 'solver': 'liblinear', 'verbose': 1}\n",
      "score: 0.99523\n",
      "[LibLinear]class:  8 best_params: {'C': 0.10000000000000001, 'fit_intercept': True, 'intercept_scaling': 0.10000000000000001, 'penalty': 'l1', 'solver': 'liblinear', 'verbose': 1}\n",
      "score: 0.96102\n",
      "[LibLinear]class:  9 best_params: {'C': 0.30000000000000004, 'fit_intercept': True, 'intercept_scaling': 0.10000000000000001, 'penalty': 'l1', 'solver': 'liblinear', 'verbose': 1}\n",
      "score: 0.98091\n",
      "Wall time: 1min 38s\n"
     ]
    }
   ],
   "source": [
    "%%time\n",
    "for i in range(0, 10):\n",
    "    grid_log.fit(X_train, Y_train[i])\n",
    "    print('class: {:2d} best_params: {}'.format(i, grid_log.best_params_) )\n",
    "    print('score: {:.5f}'.format(grid_log.best_score_) )"
   ]
  },
  {
   "cell_type": "markdown",
   "metadata": {},
   "source": [
    "Ниже приведен вариант подбора параметров для алгоритмов: 'newton-cg','lbfgs', 'sag' (параметры заданы \n",
    "в переменной param_log3)\n",
    "\n",
    "Третья версия параметров занимает очень большое время для расчета, ресурсоемкая. Получаемая точность по сравнению с алгоритмом liblinea нервноценна ко времени ожидания результата. Точность улучшается примерно на несколько десятых или тысячных."
   ]
  },
  {
   "cell_type": "code",
   "execution_count": 35,
   "metadata": {
    "collapsed": true
   },
   "outputs": [],
   "source": [
    "grid_log3 = GridSearchCV (model_log, param_grid = param_log3, scoring = 'accuracy', n_jobs = 1 )"
   ]
  },
  {
   "cell_type": "code",
   "execution_count": 38,
   "metadata": {},
   "outputs": [
    {
     "name": "stdout",
     "output_type": "stream",
     "text": [
      "convergence after 650 epochs took 1 seconds\n",
      "class:  0 best_params: {'C': 0.5, 'fit_intercept': True, 'intercept_scaling': 0.10000000000000001, 'max_iter': 1000, 'penalty': 'l2', 'solver': 'sag', 'verbose': 2, 'warm_start': True}\n",
      "score: 0.99920\n"
     ]
    },
    {
     "name": "stderr",
     "output_type": "stream",
     "text": [
      "[Parallel(n_jobs=1)]: Done   1 out of   1 | elapsed:    0.7s remaining:    0.0s\n",
      "[Parallel(n_jobs=1)]: Done   1 out of   1 | elapsed:    0.7s finished\n",
      "[Parallel(n_jobs=1)]: Done   1 out of   1 | elapsed:    0.0s finished\n"
     ]
    },
    {
     "name": "stdout",
     "output_type": "stream",
     "text": [
      "class:  1 best_params: {'C': 0.10000000000000001, 'fit_intercept': True, 'intercept_scaling': 0.10000000000000001, 'max_iter': 1000, 'penalty': 'l2', 'solver': 'newton-cg', 'verbose': 1, 'warm_start': True}\n",
      "score: 0.98011\n",
      "convergence after 566 epochs took 0 seconds\n",
      "class:  2 best_params: {'C': 0.30000000000000004, 'fit_intercept': True, 'intercept_scaling': 0.10000000000000001, 'max_iter': 1000, 'penalty': 'l2', 'solver': 'sag', 'verbose': 1, 'warm_start': True}\n",
      "score: 0.99920\n"
     ]
    },
    {
     "name": "stderr",
     "output_type": "stream",
     "text": [
      "[Parallel(n_jobs=1)]: Done   1 out of   1 | elapsed:    0.6s finished\n"
     ]
    },
    {
     "name": "stdout",
     "output_type": "stream",
     "text": [
      "convergence after 335 epochs took 0 seconds\n",
      "class:  3 best_params: {'C': 0.10000000000000001, 'fit_intercept': True, 'intercept_scaling': 0.10000000000000001, 'max_iter': 1000, 'penalty': 'l2', 'solver': 'sag', 'verbose': 1, 'warm_start': True}\n",
      "score: 0.98568\n"
     ]
    },
    {
     "name": "stderr",
     "output_type": "stream",
     "text": [
      "[Parallel(n_jobs=1)]: Done   1 out of   1 | elapsed:    0.2s finished\n",
      "[Parallel(n_jobs=1)]: Done   1 out of   1 | elapsed:    0.0s finished\n"
     ]
    },
    {
     "name": "stdout",
     "output_type": "stream",
     "text": [
      "class:  4 best_params: {'C': 0.10000000000000001, 'fit_intercept': True, 'intercept_scaling': 0.10000000000000001, 'max_iter': 1000, 'penalty': 'l2', 'solver': 'newton-cg', 'verbose': 1, 'warm_start': True}\n",
      "score: 0.99602\n"
     ]
    },
    {
     "name": "stderr",
     "output_type": "stream",
     "text": [
      "[Parallel(n_jobs=1)]: Done   1 out of   1 | elapsed:    0.0s finished\n"
     ]
    },
    {
     "name": "stdout",
     "output_type": "stream",
     "text": [
      "class:  5 best_params: {'C': 0.70000000000000007, 'fit_intercept': False, 'intercept_scaling': 0.10000000000000001, 'max_iter': 1000, 'penalty': 'l2', 'solver': 'newton-cg', 'verbose': 1, 'warm_start': True}\n",
      "score: 0.99284\n",
      "convergence after 310 epochs took 0 seconds\n",
      "class:  6 best_params: {'C': 0.10000000000000001, 'fit_intercept': True, 'intercept_scaling': 0.10000000000000001, 'max_iter': 1000, 'penalty': 'l2', 'solver': 'sag', 'verbose': 1, 'warm_start': True}\n",
      "score: 0.99602\n"
     ]
    },
    {
     "name": "stderr",
     "output_type": "stream",
     "text": [
      "[Parallel(n_jobs=1)]: Done   1 out of   1 | elapsed:    0.3s finished\n"
     ]
    },
    {
     "name": "stdout",
     "output_type": "stream",
     "text": [
      "convergence after 296 epochs took 1 seconds\n",
      "class:  7 best_params: {'C': 0.10000000000000001, 'fit_intercept': True, 'intercept_scaling': 0.10000000000000001, 'max_iter': 1000, 'penalty': 'l2', 'solver': 'sag', 'verbose': 1, 'warm_start': False}\n",
      "score: 0.99523\n"
     ]
    },
    {
     "name": "stderr",
     "output_type": "stream",
     "text": [
      "[Parallel(n_jobs=1)]: Done   1 out of   1 | elapsed:    0.2s finished\n",
      "[Parallel(n_jobs=1)]: Done   1 out of   1 | elapsed:    0.0s finished\n"
     ]
    },
    {
     "name": "stdout",
     "output_type": "stream",
     "text": [
      "class:  8 best_params: {'C': 0.10000000000000001, 'fit_intercept': True, 'intercept_scaling': 0.10000000000000001, 'max_iter': 1000, 'penalty': 'l2', 'solver': 'newton-cg', 'verbose': 1, 'warm_start': True}\n",
      "score: 0.96022\n",
      "class:  9 best_params: {'C': 0.10000000000000001, 'fit_intercept': True, 'intercept_scaling': 0.10000000000000001, 'max_iter': 1000, 'penalty': 'l2', 'solver': 'newton-cg', 'verbose': 1, 'warm_start': True}\n",
      "score: 0.98568\n",
      "Wall time: 1h 10min 25s\n"
     ]
    },
    {
     "name": "stderr",
     "output_type": "stream",
     "text": [
      "[Parallel(n_jobs=1)]: Done   1 out of   1 | elapsed:    0.0s finished\n"
     ]
    }
   ],
   "source": [
    "%%time\n",
    "for i in range(0, 10):\n",
    "    grid_log3.fit(X_train, Y_train[i])\n",
    "    print('class: {:2d} best_params: {}'.format(i, grid_log3.best_params_) )\n",
    "    print('score: {:.5f}'.format(grid_log3.best_score_) )"
   ]
  },
  {
   "cell_type": "markdown",
   "metadata": {},
   "source": [
    "Поэтому для работы берем алгоритм liblinea, c наиболее часто встречающимися параметрами. \n",
    "Параметр регуляризации С беререм 0,3, чтобы не приходить к переобучению (уменьшаем регуляризацию)."
   ]
  },
  {
   "cell_type": "code",
   "execution_count": 60,
   "metadata": {
    "collapsed": true
   },
   "outputs": [],
   "source": [
    "model_log_param = linear_model.LogisticRegression( C = 0.3, fit_intercept= True, \n",
    "                                                    intercept_scaling = 0.1, penalty = 'l2',\n",
    "                                                    solver = 'liblinear',\n",
    "                                                    verbose = 1)"
   ]
  },
  {
   "cell_type": "markdown",
   "metadata": {},
   "source": [
    "Посмотрим, даст ли что-то разбиение на фолды. Кросс-валидацией не занимаемся, тк среднее одинаково для \n",
    "всех разбиений в пределах отклонения."
   ]
  },
  {
   "cell_type": "code",
   "execution_count": 42,
   "metadata": {},
   "outputs": [
    {
     "name": "stdout",
     "output_type": "stream",
     "text": [
      "folds:  2, mean: 0.9523, std: 0.0016\n",
      "folds:  3, mean: 0.9547, std: 0.0052\n",
      "folds:  4, mean: 0.9546, std: 0.0062\n",
      "folds:  5, mean: 0.9507, std: 0.0081\n",
      "folds:  6, mean: 0.9531, std: 0.0097\n",
      "folds:  7, mean: 0.9515, std: 0.0157\n",
      "folds:  8, mean: 0.9546, std: 0.0113\n",
      "folds:  9, mean: 0.9530, std: 0.0136\n",
      "folds: 10, mean: 0.9571, std: 0.0133\n",
      "folds: 11, mean: 0.9547, std: 0.0173\n",
      "folds: 12, mean: 0.9531, std: 0.0170\n",
      "folds: 13, mean: 0.9546, std: 0.0150\n",
      "folds: 14, mean: 0.9546, std: 0.0195\n"
     ]
    }
   ],
   "source": [
    "for i in range(2, 15):\n",
    "    cv = cross_val_score(model_log_param, X_train, Y_train[8], cv = i, n_jobs = -1)\n",
    "    print('folds: {:2d}, mean: {:.4f}, std: {:.4f}'. format(i, cv.mean(), cv.std() ) )"
   ]
  },
  {
   "cell_type": "markdown",
   "metadata": {},
   "source": [
    "Предсказание с помощью модели"
   ]
  },
  {
   "cell_type": "code",
   "execution_count": 43,
   "metadata": {
    "collapsed": true
   },
   "outputs": [],
   "source": [
    "y_proba_log = dict()"
   ]
  },
  {
   "cell_type": "code",
   "execution_count": 67,
   "metadata": {},
   "outputs": [
    {
     "name": "stdout",
     "output_type": "stream",
     "text": [
      "[LibLinear]class: 0 expl_var score 0.97645\n",
      "class: 0 r2 score 0.97645\n",
      "[LibLinear]class: 1 expl_var score 0.73413\n",
      "class: 1 r2 score 0.73379\n",
      "[LibLinear]class: 2 expl_var score 0.98537\n",
      "class: 2 r2 score 0.98536\n",
      "[LibLinear]class: 3 expl_var score 0.84587\n",
      "class: 3 r2 score 0.84566\n",
      "[LibLinear]class: 4 expl_var score 0.96643\n",
      "class: 4 r2 score 0.96624\n",
      "[LibLinear]class: 5 expl_var score 0.92424\n",
      "class: 5 r2 score 0.92396\n",
      "[LibLinear]class: 6 expl_var score 0.90759\n",
      "class: 6 r2 score 0.90744\n",
      "[LibLinear]class: 7 expl_var score 0.93436\n",
      "class: 7 r2 score 0.93428\n",
      "[LibLinear]class: 8 expl_var score 0.65840\n",
      "class: 8 r2 score 0.65770\n",
      "[LibLinear]class: 9 expl_var score 0.82849\n",
      "class: 9 r2 score 0.82841\n"
     ]
    }
   ],
   "source": [
    "for i in range(0, 10):\n",
    "    model_log_param.fit(X_train, Y_train[i])\n",
    "    y_proba_log[i] = model_log_param.predict_proba(X_test)\n",
    "    print('class:{:2d} expl_var score {:.5f}'. format(i, explained_variance_score( Y_test[i],  y_proba_log[i][:,1])))\n",
    "    print('class:{:2d} r2 score {:.5f}'. format(i, r2_score( Y_test[i],  y_proba_log[i][:,1])))"
   ]
  },
  {
   "cell_type": "code",
   "execution_count": 68,
   "metadata": {},
   "outputs": [
    {
     "data": {
      "text/plain": [
       "(540, 2)"
      ]
     },
     "execution_count": 68,
     "metadata": {},
     "output_type": "execute_result"
    }
   ],
   "source": [
    "y_proba_log[0].shape # второй столбец отвечает за то, что класс True"
   ]
  },
  {
   "cell_type": "code",
   "execution_count": 69,
   "metadata": {
    "collapsed": true
   },
   "outputs": [],
   "source": [
    "fpr_log = dict()\n",
    "tpr_log = dict()\n",
    "thr_log = dict()\n",
    "roc_auc_log = dict()\n",
    "\n",
    "fpr_log.clear()\n",
    "tpr_log.clear()\n",
    "thr_log.clear()\n",
    "roc_auc_log.clear()"
   ]
  },
  {
   "cell_type": "code",
   "execution_count": 70,
   "metadata": {
    "collapsed": true
   },
   "outputs": [],
   "source": [
    "for i in range(0, 10):\n",
    "    fpr_log[i] , tpr_log[i] , thr_log[i] = roc_curve( Y_test[i], y_proba_log[i][:,1] )\n",
    "    roc_auc_log[i] = auc( fpr_log[i], tpr_log[i] )"
   ]
  },
  {
   "cell_type": "code",
   "execution_count": 72,
   "metadata": {},
   "outputs": [
    {
     "data": {
      "image/png": "[encoded data removed]",
      "text/plain": [
       "<matplotlib.figure.Figure at 0x21f3a3d7588>"
      ]
     },
     "metadata": {
      "image/png": {
       "height": 440,
       "width": 610
      }
     },
     "output_type": "display_data"
    }
   ],
   "source": [
    "for i in range(0, 10):\n",
    "    plt.plot( fpr_log[i], tpr_log[i], label='number {:2d}, area {:.4f}'.format(i, roc_auc_log[i]))       \n",
    "    \n",
    "plt.plot([0, 1], [0, 1])\n",
    "plt.xlim([-0.1, 1.1])\n",
    "plt.ylim([-0.1, 1.1])\n",
    "plt.xlabel('False Positive Rate')\n",
    "plt.ylabel('True Positive Rate')\n",
    "plt.title('Digits. AUC-ROC Logistic Regression')\n",
    "plt.legend(loc=\"lower right\")\n",
    "plt.grid()\n",
    "plt.show()"
   ]
  },
  {
   "cell_type": "markdown",
   "metadata": {},
   "source": [
    "Для получения качественного результата, который можно оценить не только по графику, посчитаем такой \n",
    "искусственный параметр, как сумму площадей под кривой AUC-ROC для всех десяти классов.\n",
    "При наилучшем исходе приближения такая сумма будет стремиться к 10, тк наилучший результат, \n",
    "когда площадь под кривой для каждого из классов равна единице у 10 классов. \n",
    "\n",
    "Сравним результат этой суммы после отработки всех трех алгоритмов. \n",
    "\n",
    "Суммарная площадь под кривыми AUC-ROC для модели LogisticRegression"
   ]
  },
  {
   "cell_type": "code",
   "execution_count": 73,
   "metadata": {
    "collapsed": true
   },
   "outputs": [],
   "source": [
    "ra_log_sum = 0.0\n",
    "for i in range(0,10):\n",
    "    ra_log_sum += roc_auc_log[i]"
   ]
  },
  {
   "cell_type": "code",
   "execution_count": 74,
   "metadata": {},
   "outputs": [
    {
     "data": {
      "text/plain": [
       "9.9523263606161141"
      ]
     },
     "execution_count": 74,
     "metadata": {},
     "output_type": "execute_result"
    }
   ],
   "source": [
    "ra_log_sum"
   ]
  },
  {
   "cell_type": "raw",
   "metadata": {},
   "source": []
  },
  {
   "cell_type": "code",
   "execution_count": null,
   "metadata": {
    "collapsed": true
   },
   "outputs": [],
   "source": []
  },
  {
   "cell_type": "code",
   "execution_count": null,
   "metadata": {
    "collapsed": true
   },
   "outputs": [],
   "source": []
  },
  {
   "cell_type": "code",
   "execution_count": null,
   "metadata": {
    "collapsed": true
   },
   "outputs": [],
   "source": []
  }
 ],
 "metadata": {
  "kernelspec": {
   "display_name": "Python 3",
   "language": "python",
   "name": "python3"
  },
  "language_info": {
   "codemirror_mode": {
    "name": "ipython",
    "version": 3
   },
   "file_extension": ".py",
   "mimetype": "text/x-python",
   "name": "python",
   "nbconvert_exporter": "python",
   "pygments_lexer": "ipython3",
   "version": "3.6.2"
  }
 },
 "nbformat": 4,
 "nbformat_minor": 2
}

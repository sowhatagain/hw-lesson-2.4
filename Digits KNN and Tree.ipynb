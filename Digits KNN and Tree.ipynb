{
 "cells": [
  {
   "cell_type": "code",
   "execution_count": 1,
   "metadata": {
    "collapsed": true
   },
   "outputs": [],
   "source": [
    "import numpy as np\n",
    "import pandas as pd\n",
    "import sklearn as skl\n",
    "import matplotlib.pyplot as plt"
   ]
  },
  {
   "cell_type": "code",
   "execution_count": 2,
   "metadata": {},
   "outputs": [
    {
     "name": "stderr",
     "output_type": "stream",
     "text": [
      "C:\\Users\\blacat\\Anaconda3\\lib\\site-packages\\sklearn\\cross_validation.py:41: DeprecationWarning: This module was deprecated in version 0.18 in favor of the model_selection module into which all the refactored classes and functions are moved. Also note that the interface of the new CV iterators are different from that of this module. This module will be removed in 0.20.\n",
      "  \"This module will be removed in 0.20.\", DeprecationWarning)\n",
      "C:\\Users\\blacat\\Anaconda3\\lib\\site-packages\\sklearn\\grid_search.py:42: DeprecationWarning: This module was deprecated in version 0.18 in favor of the model_selection module into which all the refactored classes and functions are moved. This module will be removed in 0.20.\n",
      "  DeprecationWarning)\n"
     ]
    }
   ],
   "source": [
    "from sklearn import datasets\n",
    "from sklearn.metrics import *\n",
    "from sklearn.model_selection import train_test_split\n",
    "from sklearn.grid_search import GridSearchCV\n",
    "from sklearn.model_selection import KFold, cross_val_score"
   ]
  },
  {
   "cell_type": "code",
   "execution_count": 147,
   "metadata": {
    "collapsed": true
   },
   "outputs": [],
   "source": [
    "%config InlineBackend.figure_format = 'retina'\n",
    "from pylab import rcParams\n",
    "rcParams['figure.figsize'] = (10, 7)"
   ]
  },
  {
   "cell_type": "code",
   "execution_count": 3,
   "metadata": {
    "collapsed": true
   },
   "outputs": [],
   "source": [
    "digits = datasets.load_digits()"
   ]
  },
  {
   "cell_type": "code",
   "execution_count": 4,
   "metadata": {},
   "outputs": [
    {
     "data": {
      "text/plain": [
       "dict_keys(['data', 'target', 'target_names', 'images', 'DESCR'])"
      ]
     },
     "execution_count": 4,
     "metadata": {},
     "output_type": "execute_result"
    }
   ],
   "source": [
    "digits.keys()"
   ]
  },
  {
   "cell_type": "code",
   "execution_count": 5,
   "metadata": {},
   "outputs": [
    {
     "data": {
      "text/plain": [
       "(1797, 64)"
      ]
     },
     "execution_count": 5,
     "metadata": {},
     "output_type": "execute_result"
    }
   ],
   "source": [
    "X = pd.DataFrame(digits['data'])\n",
    "X.shape"
   ]
  },
  {
   "cell_type": "code",
   "execution_count": 6,
   "metadata": {},
   "outputs": [
    {
     "data": {
      "text/plain": [
       "(1797,)"
      ]
     },
     "execution_count": 6,
     "metadata": {},
     "output_type": "execute_result"
    }
   ],
   "source": [
    "Y = pd.Series(digits['target'])\n",
    "Y.shape"
   ]
  },
  {
   "cell_type": "code",
   "execution_count": 7,
   "metadata": {},
   "outputs": [
    {
     "data": {
      "text/plain": [
       "0    0\n",
       "1    1\n",
       "2    2\n",
       "3    3\n",
       "4    4\n",
       "dtype: int32"
      ]
     },
     "execution_count": 7,
     "metadata": {},
     "output_type": "execute_result"
    }
   ],
   "source": [
    "Y.head()"
   ]
  },
  {
   "cell_type": "code",
   "execution_count": 8,
   "metadata": {
    "collapsed": true
   },
   "outputs": [],
   "source": [
    "Ydm = pd.get_dummies(Y)"
   ]
  },
  {
   "cell_type": "code",
   "execution_count": 9,
   "metadata": {},
   "outputs": [
    {
     "data": {
      "text/plain": [
       "(1797, 10)"
      ]
     },
     "execution_count": 9,
     "metadata": {},
     "output_type": "execute_result"
    }
   ],
   "source": [
    "Ydm.shape"
   ]
  },
  {
   "cell_type": "code",
   "execution_count": 10,
   "metadata": {},
   "outputs": [
    {
     "data": {
      "text/html": [
       "<div>\n",
       "<style>\n",
       "    .dataframe thead tr:only-child th {\n",
       "        text-align: right;\n",
       "    }\n",
       "\n",
       "    .dataframe thead th {\n",
       "        text-align: left;\n",
       "    }\n",
       "\n",
       "    .dataframe tbody tr th {\n",
       "        vertical-align: top;\n",
       "    }\n",
       "</style>\n",
       "<table border=\"1\" class=\"dataframe\">\n",
       "  <thead>\n",
       "    <tr style=\"text-align: right;\">\n",
       "      <th></th>\n",
       "      <th>0</th>\n",
       "      <th>1</th>\n",
       "      <th>2</th>\n",
       "      <th>3</th>\n",
       "      <th>4</th>\n",
       "      <th>5</th>\n",
       "      <th>6</th>\n",
       "      <th>7</th>\n",
       "      <th>8</th>\n",
       "      <th>9</th>\n",
       "    </tr>\n",
       "  </thead>\n",
       "  <tbody>\n",
       "    <tr>\n",
       "      <th>0</th>\n",
       "      <td>1</td>\n",
       "      <td>0</td>\n",
       "      <td>0</td>\n",
       "      <td>0</td>\n",
       "      <td>0</td>\n",
       "      <td>0</td>\n",
       "      <td>0</td>\n",
       "      <td>0</td>\n",
       "      <td>0</td>\n",
       "      <td>0</td>\n",
       "    </tr>\n",
       "    <tr>\n",
       "      <th>1</th>\n",
       "      <td>0</td>\n",
       "      <td>1</td>\n",
       "      <td>0</td>\n",
       "      <td>0</td>\n",
       "      <td>0</td>\n",
       "      <td>0</td>\n",
       "      <td>0</td>\n",
       "      <td>0</td>\n",
       "      <td>0</td>\n",
       "      <td>0</td>\n",
       "    </tr>\n",
       "  </tbody>\n",
       "</table>\n",
       "</div>"
      ],
      "text/plain": [
       "   0  1  2  3  4  5  6  7  8  9\n",
       "0  1  0  0  0  0  0  0  0  0  0\n",
       "1  0  1  0  0  0  0  0  0  0  0"
      ]
     },
     "execution_count": 10,
     "metadata": {},
     "output_type": "execute_result"
    }
   ],
   "source": [
    "Ydm.head(2)"
   ]
  },
  {
   "cell_type": "code",
   "execution_count": 11,
   "metadata": {
    "collapsed": true
   },
   "outputs": [],
   "source": [
    "# Разбиваем на тестовую и общучающие выборки, с которыми будем работать дальше"
   ]
  },
  {
   "cell_type": "code",
   "execution_count": 12,
   "metadata": {
    "collapsed": true
   },
   "outputs": [],
   "source": [
    "X_train, X_test, Y_train, Y_test = train_test_split( X, Ydm, test_size = 0.3, random_state = 0 )"
   ]
  },
  {
   "cell_type": "code",
   "execution_count": 13,
   "metadata": {
    "collapsed": true
   },
   "outputs": [],
   "source": [
    "X_train.reset_index(inplace = True)\n",
    "Y_train.reset_index(inplace = True)"
   ]
  },
  {
   "cell_type": "code",
   "execution_count": 100,
   "metadata": {
    "collapsed": true
   },
   "outputs": [],
   "source": [
    "X_test.reset_index(inplace = True)\n",
    "Y_test.reset_index(inplace = True)"
   ]
  },
  {
   "cell_type": "code",
   "execution_count": 14,
   "metadata": {
    "collapsed": true
   },
   "outputs": [],
   "source": [
    "del X_train['index']"
   ]
  },
  {
   "cell_type": "code",
   "execution_count": 15,
   "metadata": {
    "collapsed": true
   },
   "outputs": [],
   "source": [
    "del Y_train['index']"
   ]
  },
  {
   "cell_type": "code",
   "execution_count": 101,
   "metadata": {
    "collapsed": true
   },
   "outputs": [],
   "source": [
    "del X_test['index']\n",
    "del Y_test['index']"
   ]
  },
  {
   "cell_type": "code",
   "execution_count": 104,
   "metadata": {},
   "outputs": [
    {
     "data": {
      "text/html": [
       "<div>\n",
       "<style>\n",
       "    .dataframe thead tr:only-child th {\n",
       "        text-align: right;\n",
       "    }\n",
       "\n",
       "    .dataframe thead th {\n",
       "        text-align: left;\n",
       "    }\n",
       "\n",
       "    .dataframe tbody tr th {\n",
       "        vertical-align: top;\n",
       "    }\n",
       "</style>\n",
       "<table border=\"1\" class=\"dataframe\">\n",
       "  <thead>\n",
       "    <tr style=\"text-align: right;\">\n",
       "      <th></th>\n",
       "      <th>0</th>\n",
       "      <th>1</th>\n",
       "      <th>2</th>\n",
       "      <th>3</th>\n",
       "      <th>4</th>\n",
       "      <th>5</th>\n",
       "      <th>6</th>\n",
       "      <th>7</th>\n",
       "      <th>8</th>\n",
       "      <th>9</th>\n",
       "      <th>...</th>\n",
       "      <th>54</th>\n",
       "      <th>55</th>\n",
       "      <th>56</th>\n",
       "      <th>57</th>\n",
       "      <th>58</th>\n",
       "      <th>59</th>\n",
       "      <th>60</th>\n",
       "      <th>61</th>\n",
       "      <th>62</th>\n",
       "      <th>63</th>\n",
       "    </tr>\n",
       "  </thead>\n",
       "  <tbody>\n",
       "    <tr>\n",
       "      <th>0</th>\n",
       "      <td>0.0</td>\n",
       "      <td>0.0</td>\n",
       "      <td>0.0</td>\n",
       "      <td>8.0</td>\n",
       "      <td>10.0</td>\n",
       "      <td>14.0</td>\n",
       "      <td>3.0</td>\n",
       "      <td>0.0</td>\n",
       "      <td>0.0</td>\n",
       "      <td>1.0</td>\n",
       "      <td>...</td>\n",
       "      <td>0.0</td>\n",
       "      <td>0.0</td>\n",
       "      <td>0.0</td>\n",
       "      <td>0.0</td>\n",
       "      <td>1.0</td>\n",
       "      <td>12.0</td>\n",
       "      <td>2.0</td>\n",
       "      <td>0.0</td>\n",
       "      <td>0.0</td>\n",
       "      <td>0.0</td>\n",
       "    </tr>\n",
       "    <tr>\n",
       "      <th>1</th>\n",
       "      <td>0.0</td>\n",
       "      <td>0.0</td>\n",
       "      <td>7.0</td>\n",
       "      <td>16.0</td>\n",
       "      <td>12.0</td>\n",
       "      <td>1.0</td>\n",
       "      <td>0.0</td>\n",
       "      <td>0.0</td>\n",
       "      <td>0.0</td>\n",
       "      <td>0.0</td>\n",
       "      <td>...</td>\n",
       "      <td>14.0</td>\n",
       "      <td>0.0</td>\n",
       "      <td>0.0</td>\n",
       "      <td>0.0</td>\n",
       "      <td>7.0</td>\n",
       "      <td>16.0</td>\n",
       "      <td>16.0</td>\n",
       "      <td>16.0</td>\n",
       "      <td>4.0</td>\n",
       "      <td>0.0</td>\n",
       "    </tr>\n",
       "    <tr>\n",
       "      <th>2</th>\n",
       "      <td>0.0</td>\n",
       "      <td>0.0</td>\n",
       "      <td>0.0</td>\n",
       "      <td>8.0</td>\n",
       "      <td>15.0</td>\n",
       "      <td>3.0</td>\n",
       "      <td>0.0</td>\n",
       "      <td>0.0</td>\n",
       "      <td>0.0</td>\n",
       "      <td>0.0</td>\n",
       "      <td>...</td>\n",
       "      <td>15.0</td>\n",
       "      <td>0.0</td>\n",
       "      <td>0.0</td>\n",
       "      <td>0.0</td>\n",
       "      <td>0.0</td>\n",
       "      <td>10.0</td>\n",
       "      <td>14.0</td>\n",
       "      <td>12.0</td>\n",
       "      <td>8.0</td>\n",
       "      <td>0.0</td>\n",
       "    </tr>\n",
       "  </tbody>\n",
       "</table>\n",
       "<p>3 rows × 64 columns</p>\n",
       "</div>"
      ],
      "text/plain": [
       "    0    1    2     3     4     5    6    7    8    9  ...     54   55   56  \\\n",
       "0  0.0  0.0  0.0   8.0  10.0  14.0  3.0  0.0  0.0  1.0 ...    0.0  0.0  0.0   \n",
       "1  0.0  0.0  7.0  16.0  12.0   1.0  0.0  0.0  0.0  0.0 ...   14.0  0.0  0.0   \n",
       "2  0.0  0.0  0.0   8.0  15.0   3.0  0.0  0.0  0.0  0.0 ...   15.0  0.0  0.0   \n",
       "\n",
       "    57   58    59    60    61   62   63  \n",
       "0  0.0  1.0  12.0   2.0   0.0  0.0  0.0  \n",
       "1  0.0  7.0  16.0  16.0  16.0  4.0  0.0  \n",
       "2  0.0  0.0  10.0  14.0  12.0  8.0  0.0  \n",
       "\n",
       "[3 rows x 64 columns]"
      ]
     },
     "execution_count": 104,
     "metadata": {},
     "output_type": "execute_result"
    }
   ],
   "source": [
    "X_train.head(3)"
   ]
  },
  {
   "cell_type": "code",
   "execution_count": 17,
   "metadata": {},
   "outputs": [
    {
     "data": {
      "text/html": [
       "<div>\n",
       "<style>\n",
       "    .dataframe thead tr:only-child th {\n",
       "        text-align: right;\n",
       "    }\n",
       "\n",
       "    .dataframe thead th {\n",
       "        text-align: left;\n",
       "    }\n",
       "\n",
       "    .dataframe tbody tr th {\n",
       "        vertical-align: top;\n",
       "    }\n",
       "</style>\n",
       "<table border=\"1\" class=\"dataframe\">\n",
       "  <thead>\n",
       "    <tr style=\"text-align: right;\">\n",
       "      <th></th>\n",
       "      <th>0</th>\n",
       "      <th>1</th>\n",
       "      <th>2</th>\n",
       "      <th>3</th>\n",
       "      <th>4</th>\n",
       "      <th>5</th>\n",
       "      <th>6</th>\n",
       "      <th>7</th>\n",
       "      <th>8</th>\n",
       "      <th>9</th>\n",
       "    </tr>\n",
       "  </thead>\n",
       "  <tbody>\n",
       "    <tr>\n",
       "      <th>0</th>\n",
       "      <td>0</td>\n",
       "      <td>0</td>\n",
       "      <td>0</td>\n",
       "      <td>0</td>\n",
       "      <td>0</td>\n",
       "      <td>0</td>\n",
       "      <td>0</td>\n",
       "      <td>0</td>\n",
       "      <td>0</td>\n",
       "      <td>1</td>\n",
       "    </tr>\n",
       "    <tr>\n",
       "      <th>1</th>\n",
       "      <td>0</td>\n",
       "      <td>0</td>\n",
       "      <td>0</td>\n",
       "      <td>1</td>\n",
       "      <td>0</td>\n",
       "      <td>0</td>\n",
       "      <td>0</td>\n",
       "      <td>0</td>\n",
       "      <td>0</td>\n",
       "      <td>0</td>\n",
       "    </tr>\n",
       "    <tr>\n",
       "      <th>2</th>\n",
       "      <td>0</td>\n",
       "      <td>0</td>\n",
       "      <td>0</td>\n",
       "      <td>0</td>\n",
       "      <td>0</td>\n",
       "      <td>0</td>\n",
       "      <td>1</td>\n",
       "      <td>0</td>\n",
       "      <td>0</td>\n",
       "      <td>0</td>\n",
       "    </tr>\n",
       "  </tbody>\n",
       "</table>\n",
       "</div>"
      ],
      "text/plain": [
       "   0  1  2  3  4  5  6  7  8  9\n",
       "0  0  0  0  0  0  0  0  0  0  1\n",
       "1  0  0  0  1  0  0  0  0  0  0\n",
       "2  0  0  0  0  0  0  1  0  0  0"
      ]
     },
     "execution_count": 17,
     "metadata": {},
     "output_type": "execute_result"
    }
   ],
   "source": [
    "Y_train.head(3)"
   ]
  },
  {
   "cell_type": "markdown",
   "metadata": {},
   "source": [
    "# KNN кластеризация"
   ]
  },
  {
   "cell_type": "markdown",
   "metadata": {},
   "source": [
    "Проведем подброр наилучших парметров модели методом GridSearch. "
   ]
  },
  {
   "cell_type": "code",
   "execution_count": 18,
   "metadata": {
    "collapsed": true
   },
   "outputs": [],
   "source": [
    "from sklearn.neighbors import KNeighborsClassifier"
   ]
  },
  {
   "cell_type": "code",
   "execution_count": 19,
   "metadata": {
    "collapsed": true
   },
   "outputs": [],
   "source": [
    "model_knn = KNeighborsClassifier()"
   ]
  },
  {
   "cell_type": "code",
   "execution_count": 20,
   "metadata": {
    "collapsed": true
   },
   "outputs": [],
   "source": [
    "# формируем набор параметров для girdsearch\n",
    "param_knn =  { 'n_neighbors': np.array(range(1,15)) ,\n",
    "               'leaf_size': np.array(range(1,50)) ,\n",
    "               'weights': ['uniform', 'distance'] ,\n",
    "               'algorithm': ['ball_tree', 'kd_tree', 'brute'] ,\n",
    "               #'cv': np.array(range(1,12)) ,\n",
    "               'p': [1, 2] } "
   ]
  },
  {
   "cell_type": "code",
   "execution_count": 21,
   "metadata": {},
   "outputs": [],
   "source": [
    "# при каком делении на фолды лучше отрабатывает\n",
    "#for i in range(2, 13):\n",
    "#    cv = cross_val_score(model_knn, X_train, Y_train, cv=i, n_jobs=-1)\n",
    "#    print('folds: {:2d}, mean: {:.4f}, std: {:.4f}'. format(i, cv.mean(), cv.std() ) )"
   ]
  },
  {
   "cell_type": "code",
   "execution_count": 22,
   "metadata": {},
   "outputs": [
    {
     "name": "stdout",
     "output_type": "stream",
     "text": [
      "best_params: {'algorithm': 'ball_tree', 'leaf_size': 1, 'n_neighbors': 1, 'p': 2, 'weights': 'uniform'}\n",
      "Wall time: 6min 24s\n"
     ]
    }
   ],
   "source": [
    "%%time\n",
    "grid_knn = GridSearchCV(model_knn, param_grid = param_knn, scoring = 'accuracy', n_jobs = -1)\n",
    "grid_knn.fit(X_train, Y_train)\n",
    "print ('best_params: {}'.format(grid_knn.best_params_) )\n",
    "#   print ('folds: {:2d}, grid_best_score: {:.5f}'. format(i,  grid_knn.best_score_))"
   ]
  },
  {
   "cell_type": "code",
   "execution_count": 23,
   "metadata": {},
   "outputs": [
    {
     "data": {
      "text/plain": [
       "0.9824980111376292"
      ]
     },
     "execution_count": 23,
     "metadata": {},
     "output_type": "execute_result"
    }
   ],
   "source": [
    "grid_knn.best_score_"
   ]
  },
  {
   "cell_type": "code",
   "execution_count": 24,
   "metadata": {
    "collapsed": true
   },
   "outputs": [],
   "source": [
    "model_knn_param = KNeighborsClassifier(n_neighbors = 1, weights = 'uniform', algorithm = 'ball_tree', leaf_size = 1,\\\n",
    "                                       p = 2, n_jobs = -1)"
   ]
  },
  {
   "cell_type": "code",
   "execution_count": 25,
   "metadata": {},
   "outputs": [
    {
     "name": "stdout",
     "output_type": "stream",
     "text": [
      "folds:  2, mean: 0.9825, std: 0.0048\n",
      "folds:  3, mean: 0.9825, std: 0.0041\n",
      "folds:  4, mean: 0.9849, std: 0.0069\n",
      "folds:  5, mean: 0.9849, std: 0.0077\n",
      "folds:  6, mean: 0.9873, std: 0.0109\n",
      "folds:  7, mean: 0.9865, std: 0.0107\n",
      "folds:  8, mean: 0.9881, std: 0.0103\n",
      "folds:  9, mean: 0.9857, std: 0.0101\n",
      "folds: 10, mean: 0.9865, std: 0.0138\n",
      "folds: 11, mean: 0.9873, std: 0.0131\n",
      "folds: 12, mean: 0.9873, std: 0.0131\n",
      "folds: 13, mean: 0.9873, std: 0.0109\n",
      "folds: 14, mean: 0.9881, std: 0.0136\n",
      "Wall time: 54.7 s\n"
     ]
    }
   ],
   "source": [
    "%%time\n",
    "# при текущих лучших параметрах подберем лучшее разбиение на число фолдов для обучения\n",
    "for i in range(2, 15):\n",
    "    cv = cross_val_score(model_knn_param, X_train, Y_train, cv = i, n_jobs = -1)\n",
    "    print('folds: {:2d}, mean: {:.4f}, std: {:.4f}'. format(i, cv.mean(), cv.std() ) )"
   ]
  },
  {
   "cell_type": "markdown",
   "metadata": {},
   "source": [
    "Выбираем 8 фолдов для дальнейшей работы. Кросс-валидация на 8 фолдах при наилучших полученных параметрах."
   ]
  },
  {
   "cell_type": "code",
   "execution_count": 26,
   "metadata": {},
   "outputs": [
    {
     "data": {
      "text/plain": [
       "KFold(n_splits=8, random_state=111111, shuffle=True)"
      ]
     },
     "execution_count": 26,
     "metadata": {},
     "output_type": "execute_result"
    }
   ],
   "source": [
    "kf = KFold(n_splits=8, random_state=111111, shuffle=True)\n",
    "kf"
   ]
  },
  {
   "cell_type": "code",
   "execution_count": 27,
   "metadata": {},
   "outputs": [
    {
     "name": "stdout",
     "output_type": "stream",
     "text": [
      "mse: [0.0025316455696202532, 0.0012738853503184715, 0.0012738853503184715, 0.002547770700636943, 0.003821656050955414, 0.002547770700636943, 0.0038216560509554145, 0.0038216560509554145]\n",
      "mse.mean: 0.002705 \n",
      "accuracy: [0.98734177215189878, 0.99363057324840764, 0.99363057324840764, 0.98726114649681529, 0.98089171974522293, 0.98726114649681529, 0.98089171974522293, 0.98089171974522293]\n",
      "accuracy.mean: 0.986475 \n",
      "Wall time: 1.08 s\n"
     ]
    }
   ],
   "source": [
    "%%time\n",
    "mse = []\n",
    "acc = []\n",
    "for train_ind, test_ind in kf.split(X_train, Y_train):\n",
    "\n",
    "    # обучающая часть\n",
    "    x_kf_train = X_train.loc[train_ind] \n",
    "    y_kf_train = Y_train.loc[train_ind]\n",
    "    \n",
    "    # предсказание\n",
    "    x_kf_test = X_train.loc[test_ind]\n",
    "    y_kf_test = Y_train.loc[test_ind]\n",
    "\n",
    "    # обучаем и предсказываем\n",
    "    model_knn_param.fit(x_kf_train, y_kf_train)\n",
    "    y_kf_pred=model_knn_param.predict(x_kf_test)\n",
    "    \n",
    "    # считаем ошибку\n",
    "    mse.append(mean_squared_error(y_kf_test, y_kf_pred))\n",
    "    acc.append(accuracy_score(y_kf_test, y_kf_pred))\n",
    "print('mse: {}'.format( mse))\n",
    "print('mse.mean: {:.6f} '. format( np.array(mse).mean()) )\n",
    "''\n",
    "print('accuracy: {}'.format( acc))\n",
    "print('accuracy.mean: {:.6f} '. format( np.array(acc).mean()) )"
   ]
  },
  {
   "cell_type": "markdown",
   "metadata": {
    "collapsed": true
   },
   "source": [
    "Предсказание с помощью обученной модели"
   ]
  },
  {
   "cell_type": "code",
   "execution_count": 28,
   "metadata": {},
   "outputs": [
    {
     "data": {
      "text/plain": [
       "KNeighborsClassifier(algorithm='ball_tree', leaf_size=1, metric='minkowski',\n",
       "           metric_params=None, n_jobs=-1, n_neighbors=1, p=2,\n",
       "           weights='uniform')"
      ]
     },
     "execution_count": 28,
     "metadata": {},
     "output_type": "execute_result"
    }
   ],
   "source": [
    "model_knn_param.fit(X_train, Y_train)"
   ]
  },
  {
   "cell_type": "code",
   "execution_count": 29,
   "metadata": {
    "collapsed": true
   },
   "outputs": [],
   "source": [
    "knn_proba = model_knn_param.predict_proba(X_test)"
   ]
  },
  {
   "cell_type": "code",
   "execution_count": 30,
   "metadata": {
    "collapsed": true
   },
   "outputs": [],
   "source": [
    "dict_knn_proba ={}\n",
    "dict_knn_proba.clear()\n",
    "for i in range(0,10):\n",
    "    dict_knn_proba[i]=knn_proba[i][:,1]"
   ]
  },
  {
   "cell_type": "code",
   "execution_count": null,
   "metadata": {
    "collapsed": true
   },
   "outputs": [],
   "source": []
  },
  {
   "cell_type": "code",
   "execution_count": 31,
   "metadata": {},
   "outputs": [
    {
     "name": "stdout",
     "output_type": "stream",
     "text": [
      "<class 'pandas.core.frame.DataFrame'>\n",
      "RangeIndex: 540 entries, 0 to 539\n",
      "Data columns (total 10 columns):\n",
      "0    540 non-null float64\n",
      "1    540 non-null float64\n",
      "2    540 non-null float64\n",
      "3    540 non-null float64\n",
      "4    540 non-null float64\n",
      "5    540 non-null float64\n",
      "6    540 non-null float64\n",
      "7    540 non-null float64\n",
      "8    540 non-null float64\n",
      "9    540 non-null float64\n",
      "dtypes: float64(10)\n",
      "memory usage: 42.3 KB\n"
     ]
    }
   ],
   "source": [
    "knn_proba_df = pd.DataFrame(data=dict_knn_proba)\n",
    "knn_proba_df.info()"
   ]
  },
  {
   "cell_type": "code",
   "execution_count": 32,
   "metadata": {},
   "outputs": [
    {
     "data": {
      "text/plain": [
       "(540, 10)"
      ]
     },
     "execution_count": 32,
     "metadata": {},
     "output_type": "execute_result"
    }
   ],
   "source": [
    "knn_predict = model_knn_param.predict(X_test)\n",
    "knn_predict.shape"
   ]
  },
  {
   "cell_type": "code",
   "execution_count": 105,
   "metadata": {},
   "outputs": [
    {
     "data": {
      "text/plain": [
       "0.98035178918483479"
      ]
     },
     "execution_count": 105,
     "metadata": {},
     "output_type": "execute_result"
    }
   ],
   "source": [
    "average_precision_score( Y_test, knn_proba_df ) # среднее по всем классам"
   ]
  },
  {
   "cell_type": "code",
   "execution_count": 106,
   "metadata": {},
   "outputs": [
    {
     "data": {
      "text/plain": [
       "array([ 1.        ,  1.        ,  1.        ,  0.94736842,  1.        ,\n",
       "        0.95138541,  0.98360656,  1.        ,  0.98545841,  0.9356991 ])"
      ]
     },
     "execution_count": 106,
     "metadata": {},
     "output_type": "execute_result"
    }
   ],
   "source": [
    "average_precision_score( Y_test, knn_proba_df, average = None) # для каждого класса в отдельности"
   ]
  },
  {
   "cell_type": "code",
   "execution_count": 170,
   "metadata": {},
   "outputs": [],
   "source": [
    "fpr_knn = dict()\n",
    "tpr_knn = dict()\n",
    "thr_knn = dict()\n",
    "roc_auc_knn = dict()\n",
    "\n",
    "fpr_knn.clear()\n",
    "tpr_knn.clear()\n",
    "thr_knn.clear()\n",
    "roc_auc_knn.clear()"
   ]
  },
  {
   "cell_type": "code",
   "execution_count": 171,
   "metadata": {},
   "outputs": [],
   "source": [
    "for i in range(0, 10):\n",
    "    fpr_knn[i] , tpr_knn[i] , thr_knn[i] = roc_curve( Y_test[i], knn_proba_df[i] )\n",
    "    roc_auc_knn[i] = auc( fpr_knn[i], tpr_knn[i] )"
   ]
  },
  {
   "cell_type": "code",
   "execution_count": 261,
   "metadata": {},
   "outputs": [
    {
     "data": {
      "image/png": "[encoded data removed]",
      "text/plain": [
       "<matplotlib.figure.Figure at 0x1fd8e027748>"
      ]
     },
     "metadata": {
      "image/png": {
       "height": 440,
       "width": 610
      }
     },
     "output_type": "display_data"
    }
   ],
   "source": [
    "for i in range(0, 10):\n",
    "    plt.plot( fpr_knn[i], tpr_knn[i], label='number {:2d}, area {:.2f}'.format(i, roc_auc_knn[i]))       \n",
    "    \n",
    "plt.plot([0, 1], [0, 1])\n",
    "plt.xlim([-0.1, 1.1])\n",
    "plt.ylim([-0.1, 1.1])\n",
    "plt.xlabel('False Positive Rate')\n",
    "plt.ylabel('True Positive Rate')\n",
    "plt.title('Digits. AUC-ROC KNN classificator')\n",
    "plt.legend(loc=\"lower right\")\n",
    "plt.grid()\n",
    "plt.show()\n"
   ]
  },
  {
   "cell_type": "markdown",
   "metadata": {
    "collapsed": true
   },
   "source": [
    "Для получения качественного результата, который можно оценить не только по графику, посчитаем такой \n",
    "искусственный параметр, как сумму площадей под кривой AUC-ROC для всех десяти классов.\n",
    "При наилучшем исходе приближения такая сумма будет стремиться к 10, тк наилучший результат, \n",
    "когда площадь под кривой для каждого из классов равна единице у 10 классов. \n",
    "\n",
    "Сравним результат этой суммы после отработки всех трех алгоритмов. \n",
    "\n",
    "Суммарная площадь под кривыми AUC-ROC для модели KNeighborsClassifier"
   ]
  },
  {
   "cell_type": "code",
   "execution_count": 275,
   "metadata": {
    "collapsed": true
   },
   "outputs": [],
   "source": [
    "ra_knn_sum = 0.0\n",
    "for i in range(0,10):\n",
    "    ra_knn_sum += roc_auc_knn[i]"
   ]
  },
  {
   "cell_type": "code",
   "execution_count": 276,
   "metadata": {},
   "outputs": [
    {
     "data": {
      "text/plain": [
       "9.9417451497712221"
      ]
     },
     "execution_count": 276,
     "metadata": {},
     "output_type": "execute_result"
    }
   ],
   "source": [
    "ra_knn_sum # для KNeighborsClassifier"
   ]
  },
  {
   "cell_type": "code",
   "execution_count": null,
   "metadata": {
    "collapsed": true
   },
   "outputs": [],
   "source": []
  },
  {
   "cell_type": "markdown",
   "metadata": {},
   "source": [
    "# DecisionTree. Дерево"
   ]
  },
  {
   "cell_type": "code",
   "execution_count": 41,
   "metadata": {
    "collapsed": true
   },
   "outputs": [],
   "source": [
    "from sklearn.tree import DecisionTreeClassifier"
   ]
  },
  {
   "cell_type": "code",
   "execution_count": 42,
   "metadata": {
    "collapsed": true
   },
   "outputs": [],
   "source": [
    "model_tree = DecisionTreeClassifier()"
   ]
  },
  {
   "cell_type": "code",
   "execution_count": 43,
   "metadata": {
    "collapsed": true
   },
   "outputs": [],
   "source": [
    "# формируем набор параметров для girdsearch\n",
    "param_tree =  { 'criterion' : ['gini','entropy'],\n",
    "                'splitter' : ['best','random'],\n",
    "                'max_depth' : np.array(range(1,20)),\n",
    "                'min_samples_split': np.array(range(2,11)), \n",
    "                'min_samples_leaf' : np.array(range(2,11)),\n",
    "                'max_features' : np.array(range(1,64)), \n",
    "                'presort' : [True, False], \n",
    "                'random_state' : [None, 222222]\n",
    "              }"
   ]
  },
  {
   "cell_type": "code",
   "execution_count": 44,
   "metadata": {},
   "outputs": [
    {
     "name": "stdout",
     "output_type": "stream",
     "text": [
      "best_params: {'criterion': 'entropy', 'max_depth': 18, 'max_features': 33, 'min_samples_leaf': 2, 'min_samples_split': 3, 'presort': False, 'random_state': None, 'splitter': 'best'}\n",
      "Wall time: 4h 54min 29s\n"
     ]
    }
   ],
   "source": [
    "%%time\n",
    "grid_tree = GridSearchCV(model_tree, param_grid = param_tree, scoring = 'accuracy', n_jobs = -1)\n",
    "grid_tree.fit(X_train, Y_train)\n",
    "print ('best_params: {}'.format(grid_tree.best_params_) )"
   ]
  },
  {
   "cell_type": "code",
   "execution_count": 175,
   "metadata": {},
   "outputs": [
    {
     "data": {
      "text/plain": [
       "0.8408910103420844"
      ]
     },
     "execution_count": 175,
     "metadata": {},
     "output_type": "execute_result"
    }
   ],
   "source": [
    "grid_tree.best_score_"
   ]
  },
  {
   "cell_type": "code",
   "execution_count": 202,
   "metadata": {
    "collapsed": true
   },
   "outputs": [],
   "source": [
    "model_tree_param = DecisionTreeClassifier( criterion= 'entropy', max_depth= 18, max_features= 33 , \n",
    "                                         min_samples_leaf = 2, min_samples_split = 3, presort = False, \n",
    "                                         splitter = 'best', random_state = None)"
   ]
  },
  {
   "cell_type": "code",
   "execution_count": 226,
   "metadata": {},
   "outputs": [
    {
     "name": "stdout",
     "output_type": "stream",
     "text": [
      "folds:  2, mean: 0.760545, std: 0.005378\n",
      "folds:  3, mean: 0.789976, std: 0.015467\n",
      "folds:  4, mean: 0.778852, std: 0.012581\n",
      "folds:  5, mean: 0.809834, std: 0.018352\n",
      "folds:  6, mean: 0.813822, std: 0.024958\n",
      "folds:  7, mean: 0.801091, std: 0.021210\n",
      "folds:  8, mean: 0.826564, std: 0.016538\n",
      "folds:  9, mean: 0.815462, std: 0.014656\n",
      "folds: 10, mean: 0.823327, std: 0.041058\n",
      "folds: 11, mean: 0.832182, std: 0.027136\n",
      "folds: 12, mean: 0.822581, std: 0.022288\n",
      "folds: 13, mean: 0.814615, std: 0.034354\n",
      "folds: 14, mean: 0.806599, std: 0.043852\n",
      "Wall time: 1min 3s\n"
     ]
    }
   ],
   "source": [
    "%%time\n",
    "# при текущих лучших параметрах подберем лучшее разбиение на число фолдов для обучения\n",
    "for i in range(2, 15):\n",
    "    cv_tree = cross_val_score(model_tree_param, X_train, Y_train, cv=i, n_jobs=-1)\n",
    "    print('folds: {:2d}, mean: {:.6f}, std: {:.6f}'. format(i, cv_tree.mean(), cv_tree.std() ) )"
   ]
  },
  {
   "cell_type": "code",
   "execution_count": 217,
   "metadata": {
    "collapsed": true
   },
   "outputs": [],
   "source": [
    "# разбиваем на 11 фолдов"
   ]
  },
  {
   "cell_type": "code",
   "execution_count": 227,
   "metadata": {},
   "outputs": [
    {
     "data": {
      "text/plain": [
       "KFold(n_splits=11, random_state=None, shuffle=True)"
      ]
     },
     "execution_count": 227,
     "metadata": {},
     "output_type": "execute_result"
    }
   ],
   "source": [
    "kf_tree = KFold(n_splits=11, random_state=None, shuffle=True)\n",
    "kf_tree"
   ]
  },
  {
   "cell_type": "code",
   "execution_count": 228,
   "metadata": {},
   "outputs": [
    {
     "name": "stdout",
     "output_type": "stream",
     "text": [
      "mse: [0.026956521739130435, 0.033913043478260872, 0.039130434782608692, 0.031578947368421054, 0.028070175438596488, 0.032456140350877197, 0.023684210526315787, 0.028070175438596488, 0.028070175438596488, 0.030701754385964914, 0.039473684210526314]\n",
      "mse.mean: 0.031100 \n",
      "accuracy: [0.83478260869565213, 0.78260869565217395, 0.78260869565217395, 0.83333333333333337, 0.84210526315789469, 0.82456140350877194, 0.85964912280701755, 0.83333333333333337, 0.82456140350877194, 0.79824561403508776, 0.76315789473684215]\n",
      "accuracy.mean: 0.816268 \n",
      "Wall time: 266 ms\n"
     ]
    }
   ],
   "source": [
    "%%time\n",
    "mse_tr = []\n",
    "acc_tr = []\n",
    "for train_ind, test_ind in kf_tree.split(X_train, Y_train):\n",
    "\n",
    "    # обучающая часть\n",
    "    x_kf_train_tr = X_train.loc[train_ind] \n",
    "    y_kf_train_tr = Y_train.loc[train_ind]\n",
    "    \n",
    "    # предсказание\n",
    "    x_kf_test_tr = X_train.loc[test_ind]\n",
    "    y_kf_test_tr = Y_train.loc[test_ind]\n",
    "\n",
    "    # обучаем и предсказываем\n",
    "    model_tree_param.fit(x_kf_train_tr, y_kf_train_tr)\n",
    "    y_kf_pred_tr=model_tree_param.predict(x_kf_test_tr)\n",
    "    \n",
    "    # считаем ошибку\n",
    "    mse_tr.append(mean_squared_error(y_kf_test_tr, y_kf_pred_tr))\n",
    "    acc_tr.append(accuracy_score(y_kf_test_tr, y_kf_pred_tr))\n",
    "print('mse: {}'.format( mse_tr))\n",
    "print('mse.mean: {:.6f} '. format( np.array( mse_tr ).mean()) )\n",
    "print('accuracy: {}'.format( acc_tr ))\n",
    "print('accuracy.mean: {:.6f} '. format( np.array( acc_tr ).mean()) )"
   ]
  },
  {
   "cell_type": "code",
   "execution_count": 229,
   "metadata": {},
   "outputs": [
    {
     "data": {
      "text/plain": [
       "DecisionTreeClassifier(class_weight=None, criterion='entropy', max_depth=18,\n",
       "            max_features=33, max_leaf_nodes=None,\n",
       "            min_impurity_decrease=0.0, min_impurity_split=None,\n",
       "            min_samples_leaf=2, min_samples_split=3,\n",
       "            min_weight_fraction_leaf=0.0, presort=False, random_state=None,\n",
       "            splitter='best')"
      ]
     },
     "execution_count": 229,
     "metadata": {},
     "output_type": "execute_result"
    }
   ],
   "source": [
    "model_tree_param.fit(X_train, Y_train)"
   ]
  },
  {
   "cell_type": "code",
   "execution_count": 230,
   "metadata": {
    "collapsed": true
   },
   "outputs": [],
   "source": [
    "tree_proba = model_tree_param.predict_proba(X_test)"
   ]
  },
  {
   "cell_type": "code",
   "execution_count": 231,
   "metadata": {
    "collapsed": true
   },
   "outputs": [],
   "source": [
    "dict_tree_proba ={}\n",
    "dict_tree_proba.clear()\n",
    "for i in range(0,10):\n",
    "    dict_tree_proba[i]=tree_proba[i][:,1]"
   ]
  },
  {
   "cell_type": "code",
   "execution_count": 232,
   "metadata": {},
   "outputs": [
    {
     "data": {
      "text/html": [
       "<div>\n",
       "<style>\n",
       "    .dataframe thead tr:only-child th {\n",
       "        text-align: right;\n",
       "    }\n",
       "\n",
       "    .dataframe thead th {\n",
       "        text-align: left;\n",
       "    }\n",
       "\n",
       "    .dataframe tbody tr th {\n",
       "        vertical-align: top;\n",
       "    }\n",
       "</style>\n",
       "<table border=\"1\" class=\"dataframe\">\n",
       "  <thead>\n",
       "    <tr style=\"text-align: right;\">\n",
       "      <th></th>\n",
       "      <th>0</th>\n",
       "      <th>1</th>\n",
       "      <th>2</th>\n",
       "      <th>3</th>\n",
       "      <th>4</th>\n",
       "      <th>5</th>\n",
       "      <th>6</th>\n",
       "      <th>7</th>\n",
       "      <th>8</th>\n",
       "      <th>9</th>\n",
       "    </tr>\n",
       "  </thead>\n",
       "  <tbody>\n",
       "    <tr>\n",
       "      <th>0</th>\n",
       "      <td>0.0</td>\n",
       "      <td>0.0</td>\n",
       "      <td>1.0</td>\n",
       "      <td>0.0</td>\n",
       "      <td>0.0</td>\n",
       "      <td>0.0</td>\n",
       "      <td>0.0</td>\n",
       "      <td>0.0</td>\n",
       "      <td>0.0</td>\n",
       "      <td>0.0</td>\n",
       "    </tr>\n",
       "    <tr>\n",
       "      <th>1</th>\n",
       "      <td>0.0</td>\n",
       "      <td>0.0</td>\n",
       "      <td>0.0</td>\n",
       "      <td>0.0</td>\n",
       "      <td>0.0</td>\n",
       "      <td>0.0</td>\n",
       "      <td>0.0</td>\n",
       "      <td>0.0</td>\n",
       "      <td>1.0</td>\n",
       "      <td>0.0</td>\n",
       "    </tr>\n",
       "    <tr>\n",
       "      <th>2</th>\n",
       "      <td>0.0</td>\n",
       "      <td>0.0</td>\n",
       "      <td>1.0</td>\n",
       "      <td>0.0</td>\n",
       "      <td>0.0</td>\n",
       "      <td>0.0</td>\n",
       "      <td>0.0</td>\n",
       "      <td>0.0</td>\n",
       "      <td>0.0</td>\n",
       "      <td>0.0</td>\n",
       "    </tr>\n",
       "    <tr>\n",
       "      <th>3</th>\n",
       "      <td>0.0</td>\n",
       "      <td>0.0</td>\n",
       "      <td>0.0</td>\n",
       "      <td>0.0</td>\n",
       "      <td>0.0</td>\n",
       "      <td>0.0</td>\n",
       "      <td>1.0</td>\n",
       "      <td>0.0</td>\n",
       "      <td>0.0</td>\n",
       "      <td>0.0</td>\n",
       "    </tr>\n",
       "    <tr>\n",
       "      <th>4</th>\n",
       "      <td>0.0</td>\n",
       "      <td>0.0</td>\n",
       "      <td>0.0</td>\n",
       "      <td>0.0</td>\n",
       "      <td>0.0</td>\n",
       "      <td>0.0</td>\n",
       "      <td>1.0</td>\n",
       "      <td>0.0</td>\n",
       "      <td>0.0</td>\n",
       "      <td>0.0</td>\n",
       "    </tr>\n",
       "  </tbody>\n",
       "</table>\n",
       "</div>"
      ],
      "text/plain": [
       "     0    1    2    3    4    5    6    7    8    9\n",
       "0  0.0  0.0  1.0  0.0  0.0  0.0  0.0  0.0  0.0  0.0\n",
       "1  0.0  0.0  0.0  0.0  0.0  0.0  0.0  0.0  1.0  0.0\n",
       "2  0.0  0.0  1.0  0.0  0.0  0.0  0.0  0.0  0.0  0.0\n",
       "3  0.0  0.0  0.0  0.0  0.0  0.0  1.0  0.0  0.0  0.0\n",
       "4  0.0  0.0  0.0  0.0  0.0  0.0  1.0  0.0  0.0  0.0"
      ]
     },
     "execution_count": 232,
     "metadata": {},
     "output_type": "execute_result"
    }
   ],
   "source": [
    "tree_proba_df = pd.DataFrame(data=dict_tree_proba)\n",
    "tree_proba_df.head()"
   ]
  },
  {
   "cell_type": "code",
   "execution_count": 233,
   "metadata": {},
   "outputs": [
    {
     "data": {
      "text/plain": [
       "0.75164184673650403"
      ]
     },
     "execution_count": 233,
     "metadata": {},
     "output_type": "execute_result"
    }
   ],
   "source": [
    "average_precision_score( Y_test, tree_proba_df )"
   ]
  },
  {
   "cell_type": "code",
   "execution_count": 234,
   "metadata": {},
   "outputs": [
    {
     "data": {
      "text/plain": [
       "array([ 0.95390275,  0.65715768,  0.6574692 ,  0.74289427,  0.81810831,\n",
       "        0.7922947 ,  0.89221584,  0.76788585,  0.57028163,  0.66420824])"
      ]
     },
     "execution_count": 234,
     "metadata": {},
     "output_type": "execute_result"
    }
   ],
   "source": [
    "average_precision_score( Y_test, tree_proba_df, average = None )"
   ]
  },
  {
   "cell_type": "code",
   "execution_count": 235,
   "metadata": {
    "collapsed": true
   },
   "outputs": [],
   "source": [
    "fpr_tree = dict()\n",
    "tpr_tree = dict()\n",
    "thr_tree = dict()\n",
    "roc_auc_tree = dict()\n",
    "\n",
    "fpr_tree.clear()\n",
    "tpr_tree.clear()\n",
    "thr_tree.clear()\n",
    "roc_auc_tree.clear()"
   ]
  },
  {
   "cell_type": "code",
   "execution_count": 236,
   "metadata": {
    "collapsed": true
   },
   "outputs": [],
   "source": [
    "for i in range(0, 10):\n",
    "    fpr_tree[i] , tpr_tree[i] , thr_tree[i] = roc_curve( Y_test[i], tree_proba_df[i] )\n",
    "    roc_auc_tree[i] = auc( fpr_tree[i], tpr_tree[i] )"
   ]
  },
  {
   "cell_type": "code",
   "execution_count": 241,
   "metadata": {},
   "outputs": [
    {
     "data": {
      "image/png": "[encoded data removed]",
      "text/plain": [
       "<matplotlib.figure.Figure at 0x1fdc3f95400>"
      ]
     },
     "metadata": {
      "image/png": {
       "height": 440,
       "width": 610
      }
     },
     "output_type": "display_data"
    }
   ],
   "source": [
    "for i in range(0, 10):\n",
    "    plt.plot( fpr_tree[i], tpr_tree[i], label='number {:2d}, area {:.2f}'.format(i, roc_auc_tree[i]) )       \n",
    "    \n",
    "plt.plot([0, 1], [0, 1])\n",
    "plt.xlim([-0.1, 1.1])\n",
    "plt.ylim([-0.1, 1.1])\n",
    "plt.xlabel('False Positive Rate')\n",
    "plt.ylabel('True Positive Rate')\n",
    "plt.title('Digits. AUC-ROC Tree classificator')\n",
    "plt.legend(loc=\"lower right\")\n",
    "plt.grid()\n",
    "plt.show()"
   ]
  },
  {
   "cell_type": "markdown",
   "metadata": {},
   "source": [
    "Суммарная площадь под всеми кривыми AUC-ROC для DecisionTreeClassifier"
   ]
  },
  {
   "cell_type": "code",
   "execution_count": 268,
   "metadata": {},
   "outputs": [],
   "source": [
    "ra_tree_sum = 0.0\n",
    "for i in range(0,10):\n",
    "    ra_tree_sum += roc_auc_tree[i]"
   ]
  },
  {
   "cell_type": "code",
   "execution_count": 274,
   "metadata": {},
   "outputs": [
    {
     "data": {
      "text/plain": [
       "9.1407308353424064"
      ]
     },
     "execution_count": 274,
     "metadata": {},
     "output_type": "execute_result"
    }
   ],
   "source": [
    "ra_tree_sum  # для "
   ]
  },
  {
   "cell_type": "code",
   "execution_count": null,
   "metadata": {
    "collapsed": true
   },
   "outputs": [],
   "source": []
  }
 ],
 "metadata": {
  "kernelspec": {
   "display_name": "Python 3",
   "language": "python",
   "name": "python3"
  },
  "language_info": {
   "codemirror_mode": {
    "name": "ipython",
    "version": 3
   },
   "file_extension": ".py",
   "mimetype": "text/x-python",
   "name": "python",
   "nbconvert_exporter": "python",
   "pygments_lexer": "ipython3",
   "version": "3.6.2"
  }
 },
 "nbformat": 4,
 "nbformat_minor": 2
}
